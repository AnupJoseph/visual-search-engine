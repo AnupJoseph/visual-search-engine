{
  "nbformat": 4,
  "nbformat_minor": 0,
  "metadata": {
    "colab": {
      "name": "VisualSearchEngine.ipynb",
      "provenance": [],
      "mount_file_id": "1tgYOGVeBgJKxoaNUil14UJAceHVJrIiy",
      "authorship_tag": "ABX9TyNC70UL3ubIkJhYX6F4KYgP",
      "include_colab_link": true
    },
    "kernelspec": {
      "name": "python3",
      "display_name": "Python 3"
    }
  },
  "cells": [
    {
      "cell_type": "markdown",
      "metadata": {
        "id": "view-in-github",
        "colab_type": "text"
      },
      "source": [
        "<a href=\"https://colab.research.google.com/github/AnupJoseph/visual-search-engine/blob/master/VisualSearchEngine.ipynb\" target=\"_parent\"><img src=\"https://colab.research.google.com/assets/colab-badge.svg\" alt=\"Open In Colab\"/></a>"
      ]
    },
    {
      "cell_type": "code",
      "metadata": {
        "id": "5rkFZHHgzkqR",
        "colab_type": "code",
        "colab": {
          "base_uri": "https://localhost:8080/",
          "height": 34
        },
        "outputId": "d6a0ea66-24a9-4de2-a8df-3b563d55ce95"
      },
      "source": [
        "cd /content/drive/My\\ Drive"
      ],
      "execution_count": 6,
      "outputs": [
        {
          "output_type": "stream",
          "text": [
            "/content/drive/My Drive\n"
          ],
          "name": "stdout"
        }
      ]
    },
    {
      "cell_type": "code",
      "metadata": {
        "id": "Z80hCAq2zPYO",
        "colab_type": "code",
        "colab": {}
      },
      "source": [
        "%matplotlib inline\n",
        "%reload_ext autoreload\n",
        "%autoreload\n",
        "from fastai.vision import *\n",
        "import pandas as pd\n",
        "import numpy as np"
      ],
      "execution_count": 0,
      "outputs": []
    },
    {
      "cell_type": "code",
      "metadata": {
        "id": "Dcm0smmR5WLg",
        "colab_type": "code",
        "colab": {}
      },
      "source": [
        "with open('list_category_cloth.txt','r') as file:\n",
        "  categories = []\n",
        "  for index,line in enumerate(file.readlines()):\n",
        "    if index>1:\n",
        "      categories.append(line.split(' ')[0])"
      ],
      "execution_count": 0,
      "outputs": []
    },
    {
      "cell_type": "code",
      "metadata": {
        "id": "yOFrqmyA6wwC",
        "colab_type": "code",
        "colab": {}
      },
      "source": [
        "with open('list_category_img.txt','r') as file:\n",
        "  images = []\n",
        "  for index,line in enumerate(file.readlines()):\n",
        "    if index>1:\n",
        "      images.append([word.strip() for word in line.strip(' ') if len(word)>0])"
      ],
      "execution_count": 0,
      "outputs": []
    },
    {
      "cell_type": "code",
      "metadata": {
        "id": "G2JAK0Dj7Ncn",
        "colab_type": "code",
        "colab": {}
      },
      "source": [
        "with open('list_category_img.txt','r') as file:\n",
        "  images_partition = []\n",
        "  for index,line in enumerate(file.readlines()):\n",
        "    if index>1:\n",
        "      images_partition.append([word.strip() for word in line.strip(' ') if len(word)>0])"
      ],
      "execution_count": 0,
      "outputs": []
    }
  ]
}